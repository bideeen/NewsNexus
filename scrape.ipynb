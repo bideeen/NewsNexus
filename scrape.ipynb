{
 "cells": [
  {
   "cell_type": "code",
   "execution_count": 1,
   "metadata": {},
   "outputs": [],
   "source": [
    "import requests\n",
    "from bs4 import BeautifulSoup"
   ]
  },
  {
   "cell_type": "code",
   "execution_count": 19,
   "metadata": {},
   "outputs": [
    {
     "name": "stderr",
     "output_type": "stream",
     "text": [
      "Some characters could not be decoded, and were replaced with REPLACEMENT CHARACTER.\n"
     ]
    }
   ],
   "source": [
    "links = []\n",
    "for i in range(1,100):\n",
    "    # Set the URL of the website to scrape\n",
    "    url = f\"https://punchng.com/topics/politics/page/{i}\"\n",
    "    # Make a GET request to the website and get the HTML content\n",
    "    response = requests.get(url)\n",
    "    html_content = response.content\n",
    "    # Use BeautifulSoup to parse the HTML content\n",
    "    soup = BeautifulSoup(html_content, \"html.parser\")\n",
    "\n",
    "    # Find all the links to the news articles on the page\n",
    "    news_links = []\n",
    "    for link in soup.find_all(\"h1\", class_=\"post-title\"):\n",
    "        links.append(link.find('a')['href'])\n",
    "        # print(link.find('a')['href'])"
   ]
  },
  {
   "cell_type": "code",
   "execution_count": 20,
   "metadata": {},
   "outputs": [
    {
     "data": {
      "text/plain": [
       "3069"
      ]
     },
     "execution_count": 20,
     "metadata": {},
     "output_type": "execute_result"
    }
   ],
   "source": [
    "len(links)"
   ]
  },
  {
   "cell_type": "code",
   "execution_count": 30,
   "metadata": {},
   "outputs": [
    {
     "name": "stdout",
     "output_type": "stream",
     "text": [
      "done\n"
     ]
    }
   ],
   "source": [
    "import time\n",
    "title, post_date, articles = [], [], []\n",
    "# Loop through the news links and extract the full news from each of them\n",
    "for link in links[2001:]:\n",
    "    response = requests.get(link)\n",
    "    html_content = response.content\n",
    "\n",
    "    # Use BeautifulSoup to parse the HTML content\n",
    "    soup = BeautifulSoup(html_content, \"html.parser\")\n",
    "\n",
    "    # Find the full news content on the page and print it\n",
    "    full_news = soup.find(\"article\", class_=\"single-article\")\n",
    "    title.append(full_news.find('h1', class_='post-title').text.strip())\n",
    "    post_date.append(full_news.find('span', class_='post-date').text.strip())\n",
    "    all_article = full_news.find('div', class_='post-content')\n",
    "    article = [p.text.strip() for p in all_article.find_all('p')]\n",
    "    articles.append(article)\n",
    "    time.sleep(2)\n",
    "    \n",
    "print('done')\n"
   ]
  },
  {
   "cell_type": "code",
   "execution_count": 31,
   "metadata": {},
   "outputs": [],
   "source": [
    "import pandas as pd\n",
    "data = pd.DataFrame()"
   ]
  },
  {
   "cell_type": "code",
   "execution_count": 32,
   "metadata": {},
   "outputs": [],
   "source": [
    "data['title'] = title\n",
    "data['post_date'] = post_date\n",
    "data['articles'] = articles"
   ]
  },
  {
   "cell_type": "code",
   "execution_count": 33,
   "metadata": {},
   "outputs": [
    {
     "data": {
      "text/html": [
       "<div>\n",
       "<style scoped>\n",
       "    .dataframe tbody tr th:only-of-type {\n",
       "        vertical-align: middle;\n",
       "    }\n",
       "\n",
       "    .dataframe tbody tr th {\n",
       "        vertical-align: top;\n",
       "    }\n",
       "\n",
       "    .dataframe thead th {\n",
       "        text-align: right;\n",
       "    }\n",
       "</style>\n",
       "<table border=\"1\" class=\"dataframe\">\n",
       "  <thead>\n",
       "    <tr style=\"text-align: right;\">\n",
       "      <th></th>\n",
       "      <th>title</th>\n",
       "      <th>post_date</th>\n",
       "      <th>articles</th>\n",
       "    </tr>\n",
       "  </thead>\n",
       "  <tbody>\n",
       "    <tr>\n",
       "      <th>0</th>\n",
       "      <td>Vote APC to end insecurity, Tinubu tells suppo...</td>\n",
       "      <td>18th January 2023</td>\n",
       "      <td>[The Presidential candidate of the All Progres...</td>\n",
       "    </tr>\n",
       "    <tr>\n",
       "      <th>1</th>\n",
       "      <td>Fayose, others shun Atiku’s rally in Ekiti</td>\n",
       "      <td>18th January 2023</td>\n",
       "      <td>[Members of the Peoples Democratic Party troop...</td>\n",
       "    </tr>\n",
       "    <tr>\n",
       "      <th>2</th>\n",
       "      <td>PDP, APC trade accusations over imminent tribu...</td>\n",
       "      <td>18th January 2023</td>\n",
       "      <td>[Osun State chapters of the Peoples Democratic...</td>\n",
       "    </tr>\n",
       "    <tr>\n",
       "      <th>3</th>\n",
       "      <td>Internal crisis tears Enugu APC apart, members...</td>\n",
       "      <td>18th January 2023</td>\n",
       "      <td>[Is the crisis in Enugu APC Chapter about camp...</td>\n",
       "    </tr>\n",
       "    <tr>\n",
       "      <th>4</th>\n",
       "      <td>LP prefers no candidate than unqualified ones ...</td>\n",
       "      <td>17th January 2023</td>\n",
       "      <td>[A spokesperson for the Obi/Datti presidential...</td>\n",
       "    </tr>\n",
       "  </tbody>\n",
       "</table>\n",
       "</div>"
      ],
      "text/plain": [
       "                                               title          post_date  \\\n",
       "0  Vote APC to end insecurity, Tinubu tells suppo...  18th January 2023   \n",
       "1         Fayose, others shun Atiku’s rally in Ekiti  18th January 2023   \n",
       "2  PDP, APC trade accusations over imminent tribu...  18th January 2023   \n",
       "3  Internal crisis tears Enugu APC apart, members...  18th January 2023   \n",
       "4  LP prefers no candidate than unqualified ones ...  17th January 2023   \n",
       "\n",
       "                                            articles  \n",
       "0  [The Presidential candidate of the All Progres...  \n",
       "1  [Members of the Peoples Democratic Party troop...  \n",
       "2  [Osun State chapters of the Peoples Democratic...  \n",
       "3  [Is the crisis in Enugu APC Chapter about camp...  \n",
       "4  [A spokesperson for the Obi/Datti presidential...  "
      ]
     },
     "execution_count": 33,
     "metadata": {},
     "output_type": "execute_result"
    }
   ],
   "source": [
    "data.head()"
   ]
  },
  {
   "cell_type": "code",
   "execution_count": 34,
   "metadata": {},
   "outputs": [],
   "source": [
    "data.to_csv('punch_5000.csv', index=False)"
   ]
  }
 ],
 "metadata": {
  "kernelspec": {
   "display_name": "Python 3",
   "language": "python",
   "name": "python3"
  },
  "language_info": {
   "codemirror_mode": {
    "name": "ipython",
    "version": 3
   },
   "file_extension": ".py",
   "mimetype": "text/x-python",
   "name": "python",
   "nbconvert_exporter": "python",
   "pygments_lexer": "ipython3",
   "version": "3.8.2rc2"
  },
  "orig_nbformat": 4
 },
 "nbformat": 4,
 "nbformat_minor": 2
}
