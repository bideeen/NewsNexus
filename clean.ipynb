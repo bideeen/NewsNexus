{
 "cells": [
  {
   "cell_type": "code",
   "execution_count": null,
   "metadata": {},
   "outputs": [],
   "source": [
    "import pandas as pd\n",
    "import re\n",
    "from nltk.corpus import stopwords"
   ]
  },
  {
   "cell_type": "code",
   "execution_count": null,
   "metadata": {},
   "outputs": [],
   "source": [
    "# data = pd.read_csv('data.csv', encoding='ISO-8859-1')\n",
    "data = pd.read_csv('punch_2000.csv', encoding='ISO-8859-1')\n",
    "data['articles'] = data['articles'].apply(lambda x: x.strip(\"['']\"))\n",
    "# Convert the 'date' column to DateTime format, ignoring any values that are not in the specified format\n",
    "data['post_date'] = pd.to_datetime(data['post_date'] , format='%dth %B %Y', errors='coerce')\n",
    "# Filter the DataFrame to only keep rows where the 'date' column is not null (i.e., where the value was in the specified format)\n",
    "df = data[data['post_date'].notnull()]\n",
    "df.shape"
   ]
  },
  {
   "cell_type": "code",
   "execution_count": null,
   "metadata": {},
   "outputs": [],
   "source": [
    "df.head()"
   ]
  },
  {
   "cell_type": "code",
   "execution_count": null,
   "metadata": {},
   "outputs": [],
   "source": [
    "# Convert the column to lowercase: This can help standardize the text and make it easier to identify duplicates\n",
    "df['articles'] = df['articles'].str.lower()\n",
    "# Remove any leading or trailing whitespace: This can help ensure consistency in the data.\n",
    "df['articles'] = df['articles'].str.strip()\n",
    "# Remove any HTML tags or special characters: These can often appear in text scraped from websites or other sources.\n",
    "def remove_html_tags(text):\n",
    "    clean = re.compile('<.*?>')\n",
    "    return re.sub(clean, '', text)\n",
    "\n",
    "df['articles'] = df['articles'].apply(remove_html_tags)\n",
    "# Remove any non-alphanumeric characters: This can help eliminate any remaining special characters or symbols\n",
    "# df['articles'] = df['articles'].str.replace('[^a-zA-Z0-9\\s]', '')\n",
    "# Remove any stop words: These are common words that don't add much meaning to the text, such as \"the\", \"a\", and \"is\".\n",
    "stop_words = stopwords.words('english')\n",
    "df['articles'] = df['articles'].apply(lambda x: ' '.join([word for word in x.split() if word not in stop_words]))\n",
    "# Perform spell-checking and correction: You can use a spell-checking library like PySpellChecker or TextBlob to identify and correct any misspelled words in the text.\n"
   ]
  }
 ],
 "metadata": {
  "kernelspec": {
   "display_name": "Python 3",
   "language": "python",
   "name": "python3"
  },
  "language_info": {
   "codemirror_mode": {
    "name": "ipython",
    "version": 3
   },
   "file_extension": ".py",
   "mimetype": "text/x-python",
   "name": "python",
   "nbconvert_exporter": "python",
   "pygments_lexer": "ipython3",
   "version": "3.8.2rc2"
  },
  "orig_nbformat": 4
 },
 "nbformat": 4,
 "nbformat_minor": 2
}
